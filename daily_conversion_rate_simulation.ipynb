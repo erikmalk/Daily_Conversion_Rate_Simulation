{
 "cells": [
  {
   "cell_type": "code",
   "execution_count": 1,
   "id": "a58ba3c7-b922-4761-8315-17f9cc23ab37",
   "metadata": {},
   "outputs": [],
   "source": [
    "import numpy as np\n",
    "import matplotlib.pyplot as plt\n",
    "from ipywidgets import interactive, IntSlider, FloatSlider, interact_manual"
   ]
  },
  {
   "cell_type": "code",
   "execution_count": 2,
   "id": "2f7babb3-6e64-410f-a01f-b9813a801bc9",
   "metadata": {},
   "outputs": [],
   "source": [
    "def plot_simulation_data(selected_simulation=0):\n",
    "    global global_target_conversion_rate\n",
    "    \n",
    "    # Calculate daily mean and standard deviation\n",
    "    daily_mean = daily_conversion_rates.mean(axis=1)\n",
    "    \n",
    "    plt.figure(figsize=(14, 7), dpi=200)\n",
    "    days_range = np.arange(daily_conversion_rates.shape[0])\n",
    "    upper_limit = global_target_conversion_rate + 3 * avg_stddev\n",
    "    lower_limit = global_target_conversion_rate - 3 * avg_stddev\n",
    "    plt.ylim(lower_limit if lower_limit > 0 else 0, upper_limit)\n",
    "    \n",
    "    # Plotting the daily mean conversion rate\n",
    "    plt.plot(days_range, daily_mean, color='green', linewidth=2, label='Sampled Daily Mean Conversion Rate')\n",
    "    \n",
    "    # Plotting the selected simulation\n",
    "    plt.plot(days_range, daily_conversion_rates[:, selected_simulation], color='red', linestyle='-', linewidth=1.5, label=f'Selected Simulation {selected_simulation}')\n",
    "    \n",
    "    # Plotting the target conversion rate\n",
    "    plt.axhline(y=global_target_conversion_rate, color='blue', linestyle='-', label='Target Conversion Rate')\n",
    "    \n",
    "    # Filling the 68% confidence interval (±1 avg_stddev) around theoretical target conversion rate\n",
    "    plt.fill_between(days_range, global_target_conversion_rate - avg_stddev, global_target_conversion_rate + avg_stddev, color='blue', alpha=0.075, label='68% Confidence Interval')\n",
    "    \n",
    "    # Filling the 95% confidence interval (±2 avg_stddev) around theoretical target conversion rate\n",
    "    plt.fill_between(days_range, global_target_conversion_rate - 2*avg_stddev, global_target_conversion_rate + 2*avg_stddev, color='blue', alpha=0.075, label='95% Confidence Interval')\n",
    "    \n",
    "    plt.title(\"Daily Conversion Rates Simulation\")\n",
    "    plt.xlabel(\"Day\")\n",
    "    plt.ylabel(\"Conversion Rate\")\n",
    "    plt.legend()\n",
    "    plt.grid(True, which='both', linestyle='--', linewidth=0.5)\n",
    "    plt.legend(loc='upper right')\n",
    "    plt.show()"
   ]
  },
  {
   "cell_type": "code",
   "execution_count": 3,
   "id": "abf8c08c-5200-4810-8132-34fba6d43b7f",
   "metadata": {},
   "outputs": [],
   "source": [
    "# generate_data function\n",
    "def generate_data(num_simulations=100, visitors_per_day=1000, target_conversion_rate_param=0.051, total_days=60, seed=None):\n",
    "    # Global variables\n",
    "    global daily_conversion_rates, daily_stddev_rates, avg_stddev, global_target_conversion_rate\n",
    "    \n",
    "    # Simulate data\n",
    "    visitor_data_array = np.zeros((visitors_per_day, total_days, num_simulations))\n",
    "    np.random.seed(seed)\n",
    "    visitor_data_array = np.random.rand(visitors_per_day, total_days, num_simulations)\n",
    "    visitor_data_array = (visitor_data_array <= target_conversion_rate_param).astype(int)\n",
    "    daily_conversion_rates = visitor_data_array.sum(axis=0) / visitors_per_day\n",
    "    daily_stddev_rates = daily_conversion_rates.std(axis=1)\n",
    "    global_target_conversion_rate = target_conversion_rate_param\n",
    "    avg_stddev = daily_stddev_rates.mean()  \n",
    "\n",
    "    # Display interactive plot\n",
    "    interactive_plot = interactive(plot_simulation_data, selected_simulation=(0, num_simulations-1, 1))\n",
    "    display(interactive_plot)\n",
    " "
   ]
  },
  {
   "cell_type": "code",
   "execution_count": 4,
   "id": "d799a4a6-41f2-4fa5-b536-1ad8d5c4dc4b",
   "metadata": {},
   "outputs": [
    {
     "data": {
      "application/vnd.jupyter.widget-view+json": {
       "model_id": "a4a7a481a3344b4a929793bb3741d31d",
       "version_major": 2,
       "version_minor": 0
      },
      "text/plain": [
       "interactive(children=(IntSlider(value=100, continuous_update=False, description='Simulations', max=1000, min=1…"
      ]
     },
     "metadata": {},
     "output_type": "display_data"
    }
   ],
   "source": [
    "# UI to set parameters and run simulations using interact_manual\n",
    "interact_manual(generate_data, \n",
    "                num_simulations=IntSlider(min=1, max=1000, value=100, description='Simulations', continuous_update=False),\n",
    "                visitors_per_day=IntSlider(min=1, max=100000, value=1000, description='Visitors/Day', continuous_update=False),\n",
    "                target_conversion_rate_param=FloatSlider(min=0.001, max=1.000, value=0.051, step=0.001, description='Conversion Rate', continuous_update=False),\n",
    "                total_days=IntSlider(min=2, max=365, value=60, description='Total Days', continuous_update=False),\n",
    "                seed=IntSlider(min=0, max=1000, value=None, description='Random Seed', continuous_update=False, optional=True));"
   ]
  }
 ],
 "metadata": {
  "kernelspec": {
   "display_name": "Python 3 (ipykernel)",
   "language": "python",
   "name": "python3"
  },
  "language_info": {
   "codemirror_mode": {
    "name": "ipython",
    "version": 3
   },
   "file_extension": ".py",
   "mimetype": "text/x-python",
   "name": "python",
   "nbconvert_exporter": "python",
   "pygments_lexer": "ipython3",
   "version": "3.10.6"
  }
 },
 "nbformat": 4,
 "nbformat_minor": 5
}
